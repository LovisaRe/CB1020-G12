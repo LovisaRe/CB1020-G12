{
 "cells": [
  {
   "cell_type": "code",
   "execution_count": 43,
   "metadata": {},
   "outputs": [],
   "source": [
    "#Import\n",
    "\n",
    "#Modelling\n",
    "from mesa import Agent, Model\n",
    "\n",
    "#Analysis\n",
    "from mesa.datacollection import DataCollector\n",
    "from mesa.space import MultiGrid\n",
    "from mesa.time import RandomActivation\n",
    "\n",
    "from mesa.experimental import JupyterViz"
   ]
  },
  {
   "cell_type": "code",
   "execution_count": 44,
   "metadata": {},
   "outputs": [],
   "source": [
    "#Model\n",
    "\n",
    "class BrainModel(Model):\n",
    "    def __init__(self, N, width, height):\n",
    "        super().__init__()\n",
    "        self.num_agents = N\n",
    "        self.grid = MultiGrid(width, height, True)\n",
    "        self.schedule = RandomActivation(self)\n",
    "        self.running = True\n",
    "        self.datacollector = DataCollector(\n",
    "            model_reporters={\n",
    "            \"Active NMDAR\": compute_tot_nmdar   \n",
    "        },\n",
    "        agent_reporters={\n",
    "            \"Surface NMDAR Conc.\": \"NMDAR\"\n",
    "        }, #agent attributes\n",
    "    )\n",
    "        \n",
    "    # Create Agents\n",
    "        for unique_id in range(self.num_agents): \n",
    "            agent = NeuronAgent(unique_id, self)\n",
    "            self.schedule.add(agent)\n",
    "\n",
    "            # Add the agent to a random grid cell\n",
    "            x = self.random.randrange(self.grid.width)\n",
    "            y = self.random.randrange(self.grid.height)\n",
    "            self.grid.place_agent(agent, (x, y))\n",
    "\n",
    "    def step(self):\n",
    "        self.datacollector.collect(self)\n",
    "        self.schedule.step()\n",
    "\n",
    "#Agent\n",
    "\n",
    "class NeuronAgent(Agent):\n",
    "    def __init__(self, unique_id, model):\n",
    "        # run the __init__ method of the parent class\n",
    "        super().__init__(unique_id, model)\n",
    "        # additional initialization for the derived class\n",
    "        self.NMDAR = 3 \n",
    "\n",
    "def compute_tot_nmdar(model):\n",
    "    N = model.num_agents\n",
    "\n",
    "    nmdar = model.\n",
    "\n",
    "    return tot    \n"
   ]
  },
  {
   "cell_type": "code",
   "execution_count": 45,
   "metadata": {},
   "outputs": [
    {
     "name": "stderr",
     "output_type": "stream",
     "text": [
      "Component react.component(mesa.experimental.jupyter_viz.MesaComponent) raised exception TypeError(\"'NoneType' object is not iterable\")\n",
      "Traceback (most recent call last):\n",
      "  File \"c:\\Users\\Savva\\anaconda3\\envs\\cb1020\\Lib\\site-packages\\reacton\\core.py\", line 1661, in _render\n",
      "    root_element = el.component.f(*el.args, **el.kwargs)\n",
      "                   ^^^^^^^^^^^^^^^^^^^^^^^^^^^^^^^^^^^^^\n",
      "  File \"c:\\Users\\Savva\\anaconda3\\envs\\cb1020\\Lib\\site-packages\\mesa\\experimental\\jupyter_viz.py\", line 203, in MesaComponent\n",
      "    for measure in viz.measures:\n",
      "TypeError: 'NoneType' object is not iterable\n"
     ]
    },
    {
     "data": {
      "application/vnd.jupyter.widget-view+json": {
       "model_id": "195f6146910d42d082b76dce0523c0eb",
       "version_major": 2,
       "version_minor": 0
      },
      "text/html": [
       "Cannot show widget. You probably want to rerun the code cell above (<i>Click in the code cell, and press Shift+Enter <kbd>⇧</kbd>+<kbd>↩</kbd></i>)."
      ],
      "text/plain": [
       "Cannot show ipywidgets in text"
      ]
     },
     "metadata": {},
     "output_type": "display_data"
    }
   ],
   "source": [
    "def agent_portrayal(agent):\n",
    "    portrayal = {\"Shape\": \"circle\", \"Filled\": \"true\", \"r\":0.5}\n",
    "\n",
    "    if agent.NMDAR > 0:\n",
    "        portrayal[\"Color\"] = \"green\"\n",
    "        portrayal[\"Layer\"] = 0\n",
    "    else:\n",
    "        portrayal[\"Color\"] = \"red\"\n",
    "        portrayal[\"Layer\"] = 1\n",
    "        portrayal[\"r\"] = 0.2\n",
    "\n",
    "    return portrayal\n",
    "\n",
    "model_params = {\n",
    "    \"N\": {\n",
    "        \"type\": \"SliderInt\",\n",
    "        \"value\": 50,\n",
    "        \"label\": \"Number of Neurons\",\n",
    "        \"min\": 50,\n",
    "        \"max\": 200,\n",
    "        \"step\": 1,\n",
    "    },\n",
    "    \"width\":100,\n",
    "    \"height\":100,\n",
    "}\n",
    "\n",
    "page = JupyterViz(\n",
    "    BrainModel,\n",
    "    model_params,\n",
    "    name = \"Brain Model\",\n",
    "    agent_portrayal=agent_portrayal,\n",
    ")\n",
    "\n",
    "page"
   ]
  }
 ],
 "metadata": {
  "kernelspec": {
   "display_name": "cb1020",
   "language": "python",
   "name": "python3"
  },
  "language_info": {
   "codemirror_mode": {
    "name": "ipython",
    "version": 3
   },
   "file_extension": ".py",
   "mimetype": "text/x-python",
   "name": "python",
   "nbconvert_exporter": "python",
   "pygments_lexer": "ipython3",
   "version": "3.12.0"
  }
 },
 "nbformat": 4,
 "nbformat_minor": 2
}
